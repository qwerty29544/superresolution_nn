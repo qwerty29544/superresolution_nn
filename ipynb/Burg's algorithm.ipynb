{
 "cells": [
  {
   "cell_type": "code",
   "execution_count": 102,
   "id": "925cde09",
   "metadata": {},
   "outputs": [],
   "source": [
    "import numpy as np\n",
    "import matplotlib.pyplot as plt"
   ]
  },
  {
   "cell_type": "code",
   "execution_count": 103,
   "id": "6397fa32",
   "metadata": {},
   "outputs": [],
   "source": [
    "# Example usage\n",
    "data = np.array([1, 3, 5, 7, 9, 11, 13, 15, 17, 16, 15, 13, 11, 9, 7, 5, 3, 1, 0, 1, 3, 5, 7, 9, 11, 13, 15, 16, 17])"
   ]
  },
  {
   "cell_type": "code",
   "execution_count": 104,
   "id": "943cf9a9",
   "metadata": {},
   "outputs": [],
   "source": [
    "class Burg_AR:\n",
    "    def __init__(self, n_AR = 5):\n",
    "        self.coeffs = np.zeros(n_AR)\n",
    "        self.r = n_AR\n",
    "        self._train_MAE = 0\n",
    "        self._train_R2 = 0\n",
    "        self._train_delta = 0\n",
    "        self._data = 0\n",
    "    \n",
    "    def fit(self, data):\n",
    "        self._data = data\n",
    "        N = len(data)-1\n",
    "        # initialize Ak\n",
    "        Ak    = np.zeros(self.r + 1)\n",
    "        Ak[0] = 1.0 \n",
    "        # initialize f and b.\n",
    "        f  = data.copy()\n",
    "        b = data.copy()\n",
    "        # Initialize Dk\n",
    "        Dk = 0.0\n",
    "        for j in range(N+1):\n",
    "            Dk += 2.0 * f[j] ** 2 \n",
    "        Dk -= (f[0] ** 2) + (b[N] ** 2) \n",
    "        #Burg recursion\n",
    "        for k in range(self.r):\n",
    "            # compute mu\n",
    "            mu = 0.0;\n",
    "            for n in range(N-k):\n",
    "                mu += f[n+k+1] * b[n]\n",
    "            mu *= -2.0 / Dk\n",
    "            # update Ak\n",
    "            maxn = (k+1)//2 + 1 # rounds down \n",
    "            for n in range(maxn):\n",
    "                t1 = Ak[n] + mu * Ak[k+1-n]\n",
    "                t2 = Ak[k+1-n] + mu * Ak[n]\n",
    "                Ak[n] = t1\n",
    "                Ak[k+1-n] = t2\n",
    "            #update f and b\n",
    "            for n in range(N-k):\n",
    "                t1 = f[n+k+1] + mu * b[n]\n",
    "                t2 = b[n] + mu * f[n+k+1]\n",
    "                f[n+k+1] = t1\n",
    "                b[n] = t2\n",
    "            #update Dk\n",
    "            Dk = ( 1.0 - mu ** 2) * Dk - (f[k+1] ** 2) - (b[N-k-1] ** 2)\n",
    "        # assign coefficients.\n",
    "        self.coeffs[:] = Ak[1:]\n",
    "        \n",
    "        # predict train array\n",
    "        pred_train = np.zeros((N - self.r))\n",
    "        for n in range(N - self.r):\n",
    "            pred_train[n] = data[n:(n+self.r)].dot(-self.coeffs)\n",
    "        \n",
    "        # compute train errors\n",
    "        error = data[self.r+1:] - pred_train\n",
    "        self._train_delta = np.sum(error**2) / np.sum(data[self.r]**2)\n",
    "        self._train_MAE = np.sum(error**2) / (N - self.r)\n",
    "        self._train_R2 = 1 - np.sum(error**2)/np.sum((pred_train - np.mean(data[self.r:]))**2)\n",
    "        \n",
    "    def predict(self, n_future = 1):\n",
    "        predicted = np.zeros(n_future)\n",
    "        full_series = self._data\n",
    "        for h in range(n_future):\n",
    "            predicted[h] = full_series[-1-self.r:-1].dot(-self.coeffs)\n",
    "            full_series = np.append(full_series, np.array(predicted[h]))\n",
    "        return predicted, full_series\n",
    "        \n",
    "    def __str__(self):\n",
    "        return f\"\"\"Model coefficients for AR model is: coeffs = {self.coeffs} \\n\\/\n",
    "        MAE for train data is: MAE = {self._train_MAE} \\n\\/\n",
    "        delta for train data is: delta = {self._train_delta} \\n\\/\n",
    "        R2 for train data is: R2 = {self._train_R2}\"\"\"        \n",
    "\n",
    "model = Burg_AR(17)"
   ]
  },
  {
   "cell_type": "code",
   "execution_count": 105,
   "id": "48b90da2",
   "metadata": {},
   "outputs": [
    {
     "name": "stdout",
     "output_type": "stream",
     "text": [
      "Model coefficients for AR model is: coeffs = [-1.4272116   0.49751471 -0.03546117 -0.01901264  0.01904244 -0.01961596\n",
      "  0.01963341 -0.02017224  0.02007824 -0.02057538  0.02037182 -0.02086782\n",
      "  0.02065307 -0.02114764  0.0201602  -0.01412559  0.        ] \n",
      "\\/\n",
      "        MAE for train data is: MAE = 1.1965883544172569 \n",
      "\\/\n",
      "        delta for train data is: delta = 13.162471898589827 \n",
      "\\/\n",
      "        R2 for train data is: R2 = 0.9637164898428221\n"
     ]
    }
   ],
   "source": [
    "model.fit(data)\n",
    "print(model)"
   ]
  },
  {
   "cell_type": "code",
   "execution_count": 106,
   "id": "58db1c6d",
   "metadata": {},
   "outputs": [],
   "source": [
    "predicted, full_series = model.predict(5)"
   ]
  },
  {
   "cell_type": "code",
   "execution_count": 107,
   "id": "589d6da0",
   "metadata": {},
   "outputs": [],
   "source": [
    "import matplotlib.pyplot as plt"
   ]
  },
  {
   "cell_type": "code",
   "execution_count": 108,
   "id": "9f705205",
   "metadata": {},
   "outputs": [
    {
     "data": {
      "text/plain": [
       "[<matplotlib.lines.Line2D at 0x1714b7c7700>]"
      ]
     },
     "execution_count": 108,
     "metadata": {},
     "output_type": "execute_result"
    },
    {
     "data": {
      "image/png": "[encoded data removed]",
      "text/plain": [
       "<Figure size 640x480 with 1 Axes>"
      ]
     },
     "metadata": {},
     "output_type": "display_data"
    }
   ],
   "source": [
    "plt.plot(full_series)\n",
    "plt.plot(predicted)"
   ]
  },
  {
   "cell_type": "code",
   "execution_count": null,
   "id": "f1f38eec",
   "metadata": {},
   "outputs": [],
   "source": []
  }
 ],
 "metadata": {
  "kernelspec": {
   "display_name": "Python 3 (ipykernel)",
   "language": "python",
   "name": "python3"
  },
  "language_info": {
   "codemirror_mode": {
    "name": "ipython",
    "version": 3
   },
   "file_extension": ".py",
   "mimetype": "text/x-python",
   "name": "python",
   "nbconvert_exporter": "python",
   "pygments_lexer": "ipython3",
   "version": "3.10.9"
  }
 },
 "nbformat": 4,
 "nbformat_minor": 5
}
